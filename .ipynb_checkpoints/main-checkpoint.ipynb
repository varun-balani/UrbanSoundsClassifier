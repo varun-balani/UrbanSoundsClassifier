{
 "cells": [
  {
   "cell_type": "markdown",
   "metadata": {
    "id": "k7E4-YFu5P_r"
   },
   "source": [
    "# Initialize env"
   ]
  },
  {
   "cell_type": "markdown",
   "metadata": {
    "id": "bdBP_k506t2l"
   },
   "source": [
    "### Load libraries"
   ]
  },
  {
   "cell_type": "code",
   "execution_count": 2,
   "metadata": {
    "id": "VEdKuBuE4XJk"
   },
   "outputs": [],
   "source": [
    "!pip install tensorflow\n",
    "import numpy as np\n",
    "import tensorflow as tf\n",
    "from tensorflow import keras"
   ]
  },
  {
   "cell_type": "code",
   "execution_count": 3,
   "metadata": {
    "colab": {
     "base_uri": "https://localhost:8080/"
    },
    "id": "Kr88Ei6Z5TEy",
    "outputId": "ee5614d4-d943-4a58-ef50-9b409f43528f"
   },
   "outputs": [
    {
     "name": "stdout",
     "output_type": "stream",
     "text": [
      "Requirement already satisfied: fastapi[all] in c:\\users\\varun\\anaconda3\\lib\\site-packages (0.78.0)\n",
      "Requirement already satisfied: pydantic!=1.7,!=1.7.1,!=1.7.2,!=1.7.3,!=1.8,!=1.8.1,<2.0.0,>=1.6.2 in c:\\users\\varun\\anaconda3\\lib\\site-packages (from fastapi[all]) (1.9.1)\n",
      "Requirement already satisfied: starlette==0.19.1 in c:\\users\\varun\\anaconda3\\lib\\site-packages (from fastapi[all]) (0.19.1)\n",
      "Requirement already satisfied: uvicorn[standard]<0.18.0,>=0.12.0 in c:\\users\\varun\\anaconda3\\lib\\site-packages (from fastapi[all]) (0.17.6)\n",
      "Requirement already satisfied: itsdangerous<3.0.0,>=1.1.0 in c:\\users\\varun\\anaconda3\\lib\\site-packages (from fastapi[all]) (1.1.0)\n",
      "Requirement already satisfied: requests<3.0.0,>=2.24.0 in c:\\users\\varun\\anaconda3\\lib\\site-packages (from fastapi[all]) (2.25.1)\n",
      "Requirement already satisfied: python-multipart<0.0.6,>=0.0.5 in c:\\users\\varun\\anaconda3\\lib\\site-packages (from fastapi[all]) (0.0.5)\n",
      "Requirement already satisfied: email_validator<2.0.0,>=1.1.1 in c:\\users\\varun\\anaconda3\\lib\\site-packages (from fastapi[all]) (1.2.1)\n",
      "Requirement already satisfied: jinja2<4.0.0,>=2.11.2 in c:\\users\\varun\\anaconda3\\lib\\site-packages (from fastapi[all]) (2.11.3)\n",
      "Requirement already satisfied: pyyaml<7.0.0,>=5.3.1 in c:\\users\\varun\\anaconda3\\lib\\site-packages (from fastapi[all]) (5.4.1)\n",
      "Requirement already satisfied: ujson!=4.0.2,!=4.1.0,!=4.2.0,!=4.3.0,!=5.0.0,!=5.1.0,<6.0.0,>=4.0.1 in c:\\users\\varun\\anaconda3\\lib\\site-packages (from fastapi[all]) (5.3.0)\n",
      "Requirement already satisfied: orjson<4.0.0,>=3.2.1 in c:\\users\\varun\\anaconda3\\lib\\site-packages (from fastapi[all]) (3.6.8)\n",
      "Requirement already satisfied: typing-extensions>=3.10.0 in c:\\users\\varun\\anaconda3\\lib\\site-packages (from starlette==0.19.1->fastapi[all]) (4.2.0)\n",
      "Requirement already satisfied: anyio<5,>=3.4.0 in c:\\users\\varun\\anaconda3\\lib\\site-packages (from starlette==0.19.1->fastapi[all]) (3.6.1)\n",
      "Requirement already satisfied: sniffio>=1.1 in c:\\users\\varun\\anaconda3\\lib\\site-packages (from anyio<5,>=3.4.0->starlette==0.19.1->fastapi[all]) (1.2.0)\n",
      "Requirement already satisfied: idna>=2.8 in c:\\users\\varun\\anaconda3\\lib\\site-packages (from anyio<5,>=3.4.0->starlette==0.19.1->fastapi[all]) (2.10)\n",
      "Requirement already satisfied: dnspython>=1.15.0 in c:\\users\\varun\\anaconda3\\lib\\site-packages (from email_validator<2.0.0,>=1.1.1->fastapi[all]) (2.2.1)\n",
      "Requirement already satisfied: MarkupSafe>=0.23 in c:\\users\\varun\\anaconda3\\lib\\site-packages (from jinja2<4.0.0,>=2.11.2->fastapi[all]) (1.1.1)\n",
      "Requirement already satisfied: six>=1.4.0 in c:\\users\\varun\\anaconda3\\lib\\site-packages (from python-multipart<0.0.6,>=0.0.5->fastapi[all]) (1.15.0)\n",
      "Requirement already satisfied: urllib3<1.27,>=1.21.1 in c:\\users\\varun\\anaconda3\\lib\\site-packages (from requests<3.0.0,>=2.24.0->fastapi[all]) (1.26.4)\n",
      "Requirement already satisfied: chardet<5,>=3.0.2 in c:\\users\\varun\\anaconda3\\lib\\site-packages (from requests<3.0.0,>=2.24.0->fastapi[all]) (4.0.0)\n",
      "Requirement already satisfied: certifi>=2017.4.17 in c:\\users\\varun\\anaconda3\\lib\\site-packages (from requests<3.0.0,>=2.24.0->fastapi[all]) (2020.12.5)\n",
      "Requirement already satisfied: asgiref>=3.4.0 in c:\\users\\varun\\anaconda3\\lib\\site-packages (from uvicorn[standard]<0.18.0,>=0.12.0->fastapi[all]) (3.5.2)\n",
      "Requirement already satisfied: click>=7.0 in c:\\users\\varun\\anaconda3\\lib\\site-packages (from uvicorn[standard]<0.18.0,>=0.12.0->fastapi[all]) (7.1.2)\n",
      "Requirement already satisfied: h11>=0.8 in c:\\users\\varun\\anaconda3\\lib\\site-packages (from uvicorn[standard]<0.18.0,>=0.12.0->fastapi[all]) (0.13.0)\n",
      "Requirement already satisfied: websockets>=10.0 in c:\\users\\varun\\anaconda3\\lib\\site-packages (from uvicorn[standard]<0.18.0,>=0.12.0->fastapi[all]) (10.3)\n",
      "Requirement already satisfied: colorama>=0.4 in c:\\users\\varun\\anaconda3\\lib\\site-packages (from uvicorn[standard]<0.18.0,>=0.12.0->fastapi[all]) (0.4.4)\n",
      "Requirement already satisfied: watchgod>=0.6 in c:\\users\\varun\\anaconda3\\lib\\site-packages (from uvicorn[standard]<0.18.0,>=0.12.0->fastapi[all]) (0.8.2)\n",
      "Requirement already satisfied: python-dotenv>=0.13 in c:\\users\\varun\\anaconda3\\lib\\site-packages (from uvicorn[standard]<0.18.0,>=0.12.0->fastapi[all]) (0.20.0)\n",
      "Requirement already satisfied: httptools>=0.4.0 in c:\\users\\varun\\anaconda3\\lib\\site-packages (from uvicorn[standard]<0.18.0,>=0.12.0->fastapi[all]) (0.4.0)\n"
     ]
    }
   ],
   "source": [
    "!pip install fastapi[all]\n",
    "import fastapi\n",
    "from fastapi import FastAPI"
   ]
  },
  {
   "cell_type": "code",
   "execution_count": 4,
   "metadata": {
    "colab": {
     "base_uri": "https://localhost:8080/"
    },
    "id": "qffmZlfP9Qok",
    "outputId": "ed53d5be-dc38-48e0-d2ff-55bcbdd4d086"
   },
   "outputs": [
    {
     "name": "stdout",
     "output_type": "stream",
     "text": [
      "Requirement already satisfied: uvicorn in c:\\users\\varun\\anaconda3\\lib\\site-packages (0.17.6)\n",
      "Requirement already satisfied: click>=7.0 in c:\\users\\varun\\anaconda3\\lib\\site-packages (from uvicorn) (7.1.2)\n",
      "Requirement already satisfied: h11>=0.8 in c:\\users\\varun\\anaconda3\\lib\\site-packages (from uvicorn) (0.13.0)\n",
      "Requirement already satisfied: asgiref>=3.4.0 in c:\\users\\varun\\anaconda3\\lib\\site-packages (from uvicorn) (3.5.2)\n"
     ]
    }
   ],
   "source": [
    "!pip install uvicorn\n",
    "import uvicorn"
   ]
  },
  {
   "cell_type": "code",
   "execution_count": 5,
   "metadata": {},
   "outputs": [
    {
     "name": "stdout",
     "output_type": "stream",
     "text": [
      "Requirement already satisfied: nest_asyncio in c:\\users\\varun\\anaconda3\\lib\\site-packages (1.5.1)\n"
     ]
    }
   ],
   "source": [
    "!pip install nest_asyncio\n",
    "import nest_asyncio"
   ]
  },
  {
   "cell_type": "code",
   "execution_count": 6,
   "metadata": {},
   "outputs": [
    {
     "name": "stdout",
     "output_type": "stream",
     "text": [
      "Requirement already satisfied: python-multipart in c:\\users\\varun\\anaconda3\\lib\\site-packages (0.0.5)\n",
      "Requirement already satisfied: six>=1.4.0 in c:\\users\\varun\\anaconda3\\lib\\site-packages (from python-multipart) (1.15.0)\n"
     ]
    }
   ],
   "source": [
    "!pip install python-multipart"
   ]
  },
  {
   "cell_type": "code",
   "execution_count": 7,
   "metadata": {},
   "outputs": [],
   "source": [
    "from fastapi import Request\n",
    "from fastapi.responses import HTMLResponse\n",
    "from fastapi.staticfiles import StaticFiles\n",
    "from fastapi.templating import Jinja2Templates"
   ]
  },
  {
   "cell_type": "code",
   "execution_count": 9,
   "metadata": {},
   "outputs": [
    {
     "name": "stdout",
     "output_type": "stream",
     "text": [
      "Collecting librosa\n",
      "  Downloading librosa-0.9.2-py3-none-any.whl (214 kB)\n",
      "Requirement already satisfied: scipy>=1.2.0 in c:\\users\\varun\\anaconda3\\lib\\site-packages (from librosa) (1.6.2)\n",
      "Collecting audioread>=2.1.9\n",
      "  Downloading audioread-3.0.0.tar.gz (377 kB)\n",
      "Requirement already satisfied: numba>=0.45.1 in c:\\users\\varun\\anaconda3\\lib\\site-packages (from librosa) (0.53.1)\n",
      "Collecting soundfile>=0.10.2\n",
      "  Downloading soundfile-0.11.0-py2.py3-none-win_amd64.whl (1.0 MB)\n",
      "Requirement already satisfied: numpy>=1.17.0 in c:\\users\\varun\\anaconda3\\lib\\site-packages (from librosa) (1.20.1)\n",
      "Requirement already satisfied: joblib>=0.14 in c:\\users\\varun\\anaconda3\\lib\\site-packages (from librosa) (1.0.1)\n",
      "Requirement already satisfied: decorator>=4.0.10 in c:\\users\\varun\\anaconda3\\lib\\site-packages (from librosa) (5.0.6)\n",
      "Requirement already satisfied: packaging>=20.0 in c:\\users\\varun\\anaconda3\\lib\\site-packages (from librosa) (20.9)\n",
      "Collecting resampy>=0.2.2\n",
      "  Downloading resampy-0.4.2-py3-none-any.whl (3.1 MB)\n",
      "Requirement already satisfied: scikit-learn>=0.19.1 in c:\\users\\varun\\anaconda3\\lib\\site-packages (from librosa) (0.24.1)\n",
      "Collecting pooch>=1.0\n",
      "  Using cached pooch-1.6.0-py3-none-any.whl (56 kB)\n",
      "Requirement already satisfied: setuptools in c:\\users\\varun\\anaconda3\\lib\\site-packages (from numba>=0.45.1->librosa) (52.0.0.post20210125)\n",
      "Requirement already satisfied: llvmlite<0.37,>=0.36.0rc1 in c:\\users\\varun\\anaconda3\\lib\\site-packages (from numba>=0.45.1->librosa) (0.36.0)\n",
      "Requirement already satisfied: pyparsing>=2.0.2 in c:\\users\\varun\\anaconda3\\lib\\site-packages (from packaging>=20.0->librosa) (2.4.7)\n",
      "Requirement already satisfied: requests>=2.19.0 in c:\\users\\varun\\anaconda3\\lib\\site-packages (from pooch>=1.0->librosa) (2.25.1)\n",
      "Requirement already satisfied: appdirs>=1.3.0 in c:\\users\\varun\\anaconda3\\lib\\site-packages (from pooch>=1.0->librosa) (1.4.4)\n",
      "Requirement already satisfied: certifi>=2017.4.17 in c:\\users\\varun\\anaconda3\\lib\\site-packages (from requests>=2.19.0->pooch>=1.0->librosa) (2020.12.5)\n",
      "Requirement already satisfied: idna<3,>=2.5 in c:\\users\\varun\\anaconda3\\lib\\site-packages (from requests>=2.19.0->pooch>=1.0->librosa) (2.10)\n",
      "Requirement already satisfied: chardet<5,>=3.0.2 in c:\\users\\varun\\anaconda3\\lib\\site-packages (from requests>=2.19.0->pooch>=1.0->librosa) (4.0.0)\n",
      "Requirement already satisfied: urllib3<1.27,>=1.21.1 in c:\\users\\varun\\anaconda3\\lib\\site-packages (from requests>=2.19.0->pooch>=1.0->librosa) (1.26.4)\n",
      "Requirement already satisfied: threadpoolctl>=2.0.0 in c:\\users\\varun\\anaconda3\\lib\\site-packages (from scikit-learn>=0.19.1->librosa) (2.1.0)\n",
      "Requirement already satisfied: cffi>=1.0 in c:\\users\\varun\\anaconda3\\lib\\site-packages (from soundfile>=0.10.2->librosa) (1.14.5)\n",
      "Requirement already satisfied: pycparser in c:\\users\\varun\\anaconda3\\lib\\site-packages (from cffi>=1.0->soundfile>=0.10.2->librosa) (2.20)\n",
      "Building wheels for collected packages: audioread\n",
      "  Building wheel for audioread (setup.py): started\n",
      "  Building wheel for audioread (setup.py): finished with status 'done'\n",
      "  Created wheel for audioread: filename=audioread-3.0.0-py3-none-any.whl size=23694 sha256=ffd34adda8a4ac0f1c1762f2910c55e73ff4b58c81fdc1cf5bdb2403c2eb7564\n",
      "  Stored in directory: c:\\users\\varun\\appdata\\local\\pip\\cache\\wheels\\0a\\ed\\be\\49df2538fca496690a024a4374455584d65c2afd6fc3d6e9c7\n",
      "Successfully built audioread\n",
      "Installing collected packages: soundfile, resampy, pooch, audioread, librosa\n",
      "Successfully installed audioread-3.0.0 librosa-0.9.2 pooch-1.6.0 resampy-0.4.2 soundfile-0.11.0\n"
     ]
    }
   ],
   "source": [
    "!pip install librosa\n",
    "import librosa\n",
    "from sklearn.preprocessing import LabelEncoder"
   ]
  },
  {
   "cell_type": "markdown",
   "metadata": {
    "id": "GPiflGt35oLe"
   },
   "source": [
    "### Load saved model"
   ]
  },
  {
   "cell_type": "code",
   "execution_count": 10,
   "metadata": {
    "id": "PvIUqI8m5lQV",
    "scrolled": false
   },
   "outputs": [
    {
     "name": "stdout",
     "output_type": "stream",
     "text": [
      "Model: \"sequential\"\n",
      "_________________________________________________________________\n",
      " Layer (type)                Output Shape              Param #   \n",
      "=================================================================\n",
      " conv2d (Conv2D)             (None, 16, 8, 64)         640       \n",
      "                                                                 \n",
      " max_pooling2d (MaxPooling2D  (None, 8, 4, 64)         0         \n",
      " )                                                               \n",
      "                                                                 \n",
      " conv2d_1 (Conv2D)           (None, 8, 4, 128)         73856     \n",
      "                                                                 \n",
      " max_pooling2d_1 (MaxPooling  (None, 4, 2, 128)        0         \n",
      " 2D)                                                             \n",
      "                                                                 \n",
      " dropout (Dropout)           (None, 4, 2, 128)         0         \n",
      "                                                                 \n",
      " flatten (Flatten)           (None, 1024)              0         \n",
      "                                                                 \n",
      " dense (Dense)               (None, 1024)              1049600   \n",
      "                                                                 \n",
      " dense_1 (Dense)             (None, 10)                10250     \n",
      "                                                                 \n",
      "=================================================================\n",
      "Total params: 1,134,346\n",
      "Trainable params: 1,134,346\n",
      "Non-trainable params: 0\n",
      "_________________________________________________________________\n"
     ]
    }
   ],
   "source": [
    "model = keras.models.load_model(\"model\")\n",
    "model.summary()"
   ]
  },
  {
   "cell_type": "code",
   "execution_count": null,
   "metadata": {},
   "outputs": [],
   "source": [
    "from keras.utils.vis_utils import plot_model\n",
    "plot_model(model, to_file=static_dir + 'images/model_plot.png', show_shapes=True, show_layer_names=True)"
   ]
  },
  {
   "cell_type": "markdown",
   "metadata": {},
   "source": [
    "### Configure labels"
   ]
  },
  {
   "cell_type": "code",
   "execution_count": 11,
   "metadata": {},
   "outputs": [],
   "source": [
    "labels = [\"air_conditioner\", \"car_horn\", \"children_playing\", \"dog_bark\", \"drilling\", \"engine_idling\", \"gun_shot\", \"jackhammer\", \"siren\", \"street_music\"]"
   ]
  },
  {
   "cell_type": "markdown",
   "metadata": {},
   "source": [
    "### Configure paths"
   ]
  },
  {
   "cell_type": "code",
   "execution_count": 125,
   "metadata": {},
   "outputs": [
    {
     "name": "stderr",
     "output_type": "stream",
     "text": [
      "A subdirectory or file static/uploads already exists.\n"
     ]
    }
   ],
   "source": [
    "static_dir = \"static/\"\n",
    "sample_sounds_zip = static_dir + \"sample_sounds.zip\"\n",
    "uploads_dir = static_dir + \"uploads/\"\n",
    "!@mkdir \"static/uploads\""
   ]
  },
  {
   "cell_type": "markdown",
   "metadata": {},
   "source": [
    "# Model methods"
   ]
  },
  {
   "cell_type": "code",
   "execution_count": 65,
   "metadata": {},
   "outputs": [],
   "source": [
    "def parse(file):\n",
    "    X, sample_rate = librosa.load(file, res_type='kaiser_fast') \n",
    "    mels = np.mean(librosa.feature.melspectrogram(y=X, sr=sample_rate).T,axis=0)        \n",
    "    return mels"
   ]
  },
  {
   "cell_type": "code",
   "execution_count": 66,
   "metadata": {},
   "outputs": [],
   "source": [
    "def predict(file):\n",
    "    features = parse(file)\n",
    "    features = features.reshape(-1, 16, 8, 1)\n",
    "    pred_vector = np.argmax(model.predict([features]), axis=-1)\n",
    "    pred_class = labels[pred_vector[0]]\n",
    "    return pred_class"
   ]
  },
  {
   "cell_type": "code",
   "execution_count": 67,
   "metadata": {},
   "outputs": [
    {
     "name": "stdout",
     "output_type": "stream",
     "text": [
      "1/1 [==============================] - 0s 18ms/step\n",
      "gun_shot\n",
      "1/1 [==============================] - 0s 16ms/step\n",
      "car_horn\n",
      "1/1 [==============================] - 0s 16ms/step\n",
      "children_playing\n",
      "1/1 [==============================] - 0s 18ms/step\n",
      "dog_bark\n",
      "1/1 [==============================] - 0s 17ms/step\n",
      "jackhammer\n",
      "1/1 [==============================] - 0s 18ms/step\n",
      "engine_idling\n",
      "1/1 [==============================] - 0s 21ms/step\n",
      "drilling\n"
     ]
    }
   ],
   "source": [
    "for i in range(1, 8):\n",
    "    print(predict(r\"static/sample_sounds/\" + str(i) + \".wav\"))"
   ]
  },
  {
   "cell_type": "markdown",
   "metadata": {},
   "source": [
    "# API Routes"
   ]
  },
  {
   "cell_type": "markdown",
   "metadata": {
    "id": "5tziY9NX60Q8"
   },
   "source": [
    "### Configure FastAPI server"
   ]
  },
  {
   "cell_type": "code",
   "execution_count": 210,
   "metadata": {
    "id": "NmB6alvV62Zj"
   },
   "outputs": [],
   "source": [
    "app = FastAPI()\n",
    "\n",
    "app.mount(\"/static\", StaticFiles(directory=static_dir), name=\"static\")\n",
    "templates = Jinja2Templates(directory=\"static/templates\")\n",
    "\n",
    "@app.get(\"/test\")\n",
    "async def test():\n",
    "    return {\"message\": \"Testing Endpoint\"}"
   ]
  },
  {
   "cell_type": "markdown",
   "metadata": {},
   "source": [
    "### Backend"
   ]
  },
  {
   "cell_type": "code",
   "execution_count": 211,
   "metadata": {},
   "outputs": [],
   "source": [
    "from fastapi import File, UploadFile\n",
    "\n",
    "@app.post(\"/upload\")\n",
    "def upload(file: UploadFile = File(...)):\n",
    "    try:\n",
    "        contents = file.file.read()\n",
    "        with open(uploads_dir + file.filename, 'wb') as f:\n",
    "            f.write(contents)\n",
    "    except Exception:\n",
    "        return {\"message\": \"There was an error uploading the file\"}\n",
    "    finally:\n",
    "        file.file.close()\n",
    "\n",
    "    return {\"message\": predict(uploads_dir + file.filename)}"
   ]
  },
  {
   "cell_type": "code",
   "execution_count": 212,
   "metadata": {},
   "outputs": [],
   "source": [
    "from fastapi.responses import FileResponse\n",
    "\n",
    "@app.get(\"/download-samples\")\n",
    "def download_samples():\n",
    "    res = FileResponse(path=sample_sounds_zip, filename=\"sample_sounds.zip\", media_type='application/zip')\n",
    "    res.headers['Access-Control-Expose-Headers'] = 'Content-Disposition'\n",
    "    res.headers[\"Content-Disposition\"] = \"attachment; filename=sample_sounds.zip\"\n",
    "    return res"
   ]
  },
  {
   "cell_type": "markdown",
   "metadata": {},
   "source": [
    "### Template serving"
   ]
  },
  {
   "cell_type": "code",
   "execution_count": 213,
   "metadata": {},
   "outputs": [],
   "source": [
    "from fastapi import Request\n",
    "\n",
    "@app.get(\"/\", response_class=HTMLResponse)\n",
    "async def home(request: Request):\n",
    "    return templates.TemplateResponse(\"home.html\", {\"request\": request})"
   ]
  },
  {
   "cell_type": "code",
   "execution_count": 214,
   "metadata": {},
   "outputs": [],
   "source": [
    "from fastapi import Request\n",
    "\n",
    "@app.get(\"/sample-data\", response_class=HTMLResponse)\n",
    "async def sample_data(request: Request):\n",
    "    return templates.TemplateResponse(\"sample_data.html\", {\"request\": request})"
   ]
  },
  {
   "cell_type": "code",
   "execution_count": 215,
   "metadata": {},
   "outputs": [],
   "source": [
    "from fastapi import Request\n",
    "\n",
    "@app.get(\"/arch\", response_class=HTMLResponse)\n",
    "async def arch(request: Request):\n",
    "    return templates.TemplateResponse(\"arch.html\", {\"request\": request})"
   ]
  },
  {
   "cell_type": "code",
   "execution_count": 216,
   "metadata": {},
   "outputs": [],
   "source": [
    "from fastapi import Request\n",
    "\n",
    "@app.get(\"/about\", response_class=HTMLResponse)\n",
    "async def about(request: Request):\n",
    "    return templates.TemplateResponse(\"about.html\", {\"request\": request})"
   ]
  },
  {
   "cell_type": "markdown",
   "metadata": {},
   "source": [
    "# Start server"
   ]
  },
  {
   "cell_type": "code",
   "execution_count": 217,
   "metadata": {},
   "outputs": [
    {
     "name": "stderr",
     "output_type": "stream",
     "text": [
      "INFO:     Started server process [4636]\n",
      "INFO:     Waiting for application startup.\n",
      "INFO:     Application startup complete.\n",
      "INFO:     Uvicorn running on http://127.0.0.1:8080 (Press CTRL+C to quit)\n"
     ]
    },
    {
     "name": "stdout",
     "output_type": "stream",
     "text": [
      "INFO:     127.0.0.1:63172 - \"GET / HTTP/1.1\" 200 OK\n",
      "INFO:     127.0.0.1:63172 - \"GET /templates/styles.css HTTP/1.1\" 200 OK\n",
      "INFO:     127.0.0.1:63172 - \"GET /sample-data HTTP/1.1\" 200 OK\n",
      "INFO:     127.0.0.1:63172 - \"GET /docs HTTP/1.1\" 200 OK\n",
      "INFO:     127.0.0.1:63172 - \"GET /openapi.json HTTP/1.1\" 200 OK\n",
      "INFO:     127.0.0.1:63172 - \"GET /about HTTP/1.1\" 200 OK\n",
      "INFO:     127.0.0.1:63173 - \"GET /arch HTTP/1.1\" 200 OK\n"
     ]
    },
    {
     "name": "stderr",
     "output_type": "stream",
     "text": [
      "INFO:     Shutting down\n",
      "INFO:     Waiting for application shutdown.\n",
      "INFO:     Application shutdown complete.\n",
      "INFO:     Finished server process [4636]\n"
     ]
    }
   ],
   "source": [
    "nest_asyncio.apply()\n",
    "uvicorn.run(app, port=8080)"
   ]
  },
  {
   "cell_type": "code",
   "execution_count": null,
   "metadata": {},
   "outputs": [],
   "source": []
  }
 ],
 "metadata": {
  "colab": {
   "provenance": []
  },
  "kernelspec": {
   "display_name": "Python 3",
   "language": "python",
   "name": "python3"
  },
  "language_info": {
   "codemirror_mode": {
    "name": "ipython",
    "version": 3
   },
   "file_extension": ".py",
   "mimetype": "text/x-python",
   "name": "python",
   "nbconvert_exporter": "python",
   "pygments_lexer": "ipython3",
   "version": "3.8.8"
  }
 },
 "nbformat": 4,
 "nbformat_minor": 1
}
