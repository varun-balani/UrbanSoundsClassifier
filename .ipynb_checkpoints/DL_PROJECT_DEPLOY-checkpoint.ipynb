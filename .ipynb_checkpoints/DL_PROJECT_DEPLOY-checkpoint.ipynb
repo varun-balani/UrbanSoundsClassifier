{
 "cells": [
  {
   "cell_type": "markdown",
   "metadata": {
    "id": "k7E4-YFu5P_r"
   },
   "source": [
    "# Initialize env"
   ]
  },
  {
   "cell_type": "markdown",
   "metadata": {
    "id": "bdBP_k506t2l"
   },
   "source": [
    "### Load libraries"
   ]
  },
  {
   "cell_type": "code",
   "execution_count": 1,
   "metadata": {
    "id": "VEdKuBuE4XJk"
   },
   "outputs": [],
   "source": [
    "import numpy as np\n",
    "import tensorflow as tf\n",
    "from tensorflow import keras"
   ]
  },
  {
   "cell_type": "code",
   "execution_count": 3,
   "metadata": {
    "colab": {
     "base_uri": "https://localhost:8080/"
    },
    "id": "Kr88Ei6Z5TEy",
    "outputId": "ee5614d4-d943-4a58-ef50-9b409f43528f"
   },
   "outputs": [
    {
     "name": "stdout",
     "output_type": "stream",
     "text": [
      "Requirement already satisfied: fastapi in c:\\users\\dse\\appdata\\roaming\\python\\python39\\site-packages (0.85.1)\n",
      "Requirement already satisfied: pydantic!=1.7,!=1.7.1,!=1.7.2,!=1.7.3,!=1.8,!=1.8.1,<2.0.0,>=1.6.2 in c:\\users\\dse\\appdata\\roaming\\python\\python39\\site-packages (from fastapi) (1.10.2)\n",
      "Requirement already satisfied: starlette==0.20.4 in c:\\users\\dse\\appdata\\roaming\\python\\python39\\site-packages (from fastapi) (0.20.4)\n",
      "Requirement already satisfied: typing-extensions>=3.10.0 in c:\\users\\dse\\appdata\\roaming\\python\\python39\\site-packages (from starlette==0.20.4->fastapi) (4.4.0)\n",
      "Requirement already satisfied: anyio<5,>=3.4.0 in c:\\users\\dse\\appdata\\roaming\\python\\python39\\site-packages (from starlette==0.20.4->fastapi) (3.6.2)\n",
      "Requirement already satisfied: idna>=2.8 in c:\\programdata\\anaconda3\\lib\\site-packages (from anyio<5,>=3.4.0->starlette==0.20.4->fastapi) (3.2)\n",
      "Requirement already satisfied: sniffio>=1.1 in c:\\programdata\\anaconda3\\lib\\site-packages (from anyio<5,>=3.4.0->starlette==0.20.4->fastapi) (1.2.0)\n"
     ]
    }
   ],
   "source": [
    "!pip install fastapi\n",
    "import fastapi\n",
    "from fastapi import FastAPI"
   ]
  },
  {
   "cell_type": "code",
   "execution_count": 4,
   "metadata": {
    "colab": {
     "base_uri": "https://localhost:8080/"
    },
    "id": "qffmZlfP9Qok",
    "outputId": "ed53d5be-dc38-48e0-d2ff-55bcbdd4d086"
   },
   "outputs": [
    {
     "name": "stdout",
     "output_type": "stream",
     "text": [
      "Collecting uvicorn\n",
      "  Downloading uvicorn-0.19.0-py3-none-any.whl (56 kB)\n",
      "Requirement already satisfied: click>=7.0 in c:\\programdata\\anaconda3\\lib\\site-packages (from uvicorn) (8.0.3)\n",
      "Collecting h11>=0.8\n",
      "  Downloading h11-0.14.0-py3-none-any.whl (58 kB)\n",
      "Requirement already satisfied: colorama in c:\\programdata\\anaconda3\\lib\\site-packages (from click>=7.0->uvicorn) (0.4.4)\n",
      "Installing collected packages: h11, uvicorn\n",
      "Successfully installed h11-0.14.0 uvicorn-0.19.0\n"
     ]
    }
   ],
   "source": [
    "!pip install uvicorn"
   ]
  },
  {
   "cell_type": "markdown",
   "metadata": {
    "id": "GPiflGt35oLe"
   },
   "source": [
    "### Load saved model"
   ]
  },
  {
   "cell_type": "code",
   "execution_count": 6,
   "metadata": {
    "id": "PvIUqI8m5lQV"
   },
   "outputs": [
    {
     "name": "stdout",
     "output_type": "stream",
     "text": [
      "Model: \"sequential\"\n",
      "_________________________________________________________________\n",
      " Layer (type)                Output Shape              Param #   \n",
      "=================================================================\n",
      " conv2d (Conv2D)             (None, 16, 8, 64)         640       \n",
      "                                                                 \n",
      " max_pooling2d (MaxPooling2D  (None, 8, 4, 64)         0         \n",
      " )                                                               \n",
      "                                                                 \n",
      " conv2d_1 (Conv2D)           (None, 8, 4, 128)         73856     \n",
      "                                                                 \n",
      " max_pooling2d_1 (MaxPooling  (None, 4, 2, 128)        0         \n",
      " 2D)                                                             \n",
      "                                                                 \n",
      " dropout (Dropout)           (None, 4, 2, 128)         0         \n",
      "                                                                 \n",
      " flatten (Flatten)           (None, 1024)              0         \n",
      "                                                                 \n",
      " dense (Dense)               (None, 1024)              1049600   \n",
      "                                                                 \n",
      " dense_1 (Dense)             (None, 10)                10250     \n",
      "                                                                 \n",
      "=================================================================\n",
      "Total params: 1,134,346\n",
      "Trainable params: 1,134,346\n",
      "Non-trainable params: 0\n",
      "_________________________________________________________________\n"
     ]
    }
   ],
   "source": [
    "model = keras.models.load_model(\"model\")\n",
    "model.summary()"
   ]
  },
  {
   "cell_type": "markdown",
   "metadata": {
    "id": "5tziY9NX60Q8"
   },
   "source": [
    "### Start FastAPI server"
   ]
  },
  {
   "cell_type": "code",
   "execution_count": 10,
   "metadata": {
    "id": "NmB6alvV62Zj"
   },
   "outputs": [],
   "source": [
    "app = FastAPI()\n",
    "\n",
    "@app.get(\"/test\")\n",
    "async def root():\n",
    "    return {\"message\": \"Testing Endpoint\"}"
   ]
  },
  {
   "cell_type": "code",
   "execution_count": null,
   "metadata": {
    "colab": {
     "base_uri": "https://localhost:8080/"
    },
    "id": "eqpFc44_9Ib9",
    "outputId": "e407476d-065f-48c4-98a8-8c4ea162a6ad"
   },
   "outputs": [],
   "source": [
    "!uvicorn DL_PROJECT_DEPLOY:app --reload"
   ]
  },
  {
   "cell_type": "code",
   "execution_count": null,
   "metadata": {
    "id": "le8wyxNi9NG7"
   },
   "outputs": [],
   "source": []
  }
 ],
 "metadata": {
  "colab": {
   "provenance": []
  },
  "kernelspec": {
   "display_name": "Python 3 (ipykernel)",
   "language": "python",
   "name": "python3"
  },
  "language_info": {
   "codemirror_mode": {
    "name": "ipython",
    "version": 3
   },
   "file_extension": ".py",
   "mimetype": "text/x-python",
   "name": "python",
   "nbconvert_exporter": "python",
   "pygments_lexer": "ipython3",
   "version": "3.9.7"
  }
 },
 "nbformat": 4,
 "nbformat_minor": 1
}
